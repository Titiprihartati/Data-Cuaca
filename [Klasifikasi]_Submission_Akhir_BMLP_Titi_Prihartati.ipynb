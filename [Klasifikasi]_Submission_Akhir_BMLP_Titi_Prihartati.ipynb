{
  "nbformat": 4,
  "nbformat_minor": 0,
  "metadata": {
    "colab": {
      "provenance": []
    },
    "kernelspec": {
      "name": "python3",
      "display_name": "Python 3"
    },
    "language_info": {
      "name": "python"
    }
  },
  "cells": [
    {
      "cell_type": "markdown",
      "source": [
        "# **1. Import Library**"
      ],
      "metadata": {
        "id": "fKADPWcFKlj3"
      }
    },
    {
      "cell_type": "markdown",
      "source": [
        "Pada tahap ini, Anda perlu mengimpor beberapa pustaka (library) Python yang dibutuhkan untuk analisis data dan pembangunan model machine learning."
      ],
      "metadata": {
        "id": "LgA3ERnVn84N"
      }
    },
    {
      "cell_type": "code",
      "source": [
        "from google.colab import drive\n",
        "import pandas as pd\n",
        "from sklearn.model_selection import train_test_split\n",
        "from sklearn.ensemble import RandomForestClassifier\n",
        "from sklearn.metrics import accuracy_score, classification_report, confusion_matrix\n",
        "import matplotlib.pyplot as plt\n",
        "import numpy as np\n",
        "import seaborn as sns\n",
        "from sklearn.neighbors import KNeighborsClassifier\n",
        "from sklearn.metrics import accuracy_score, classification_report, confusion_matrix, f1_score\n",
        "\n"
      ],
      "metadata": {
        "id": "BlmvjLY9M4Yj"
      },
      "execution_count": 30,
      "outputs": []
    },
    {
      "cell_type": "markdown",
      "source": [
        "# **2. Memuat Dataset dari Hasil Clustering**"
      ],
      "metadata": {
        "id": "f3YIEnAFKrKL"
      }
    },
    {
      "cell_type": "markdown",
      "source": [
        "Memuat dataset hasil clustering dari file CSV ke dalam variabel DataFrame."
      ],
      "metadata": {
        "id": "Ey3ItwTen_7E"
      }
    },
    {
      "cell_type": "code",
      "source": [
        "from google.colab import drive\n",
        "import pandas as pd\n",
        "\n",
        "drive.mount('/content/drive')\n",
        "file = \"/content/drive/MyDrive/Colab Notebooks/data_final.csv\"\n",
        "data = pd.read_csv(file)"
      ],
      "metadata": {
        "id": "GHCGNTyrM5fS",
        "colab": {
          "base_uri": "https://localhost:8080/"
        },
        "outputId": "f00fc6cb-7671-489d-f602-a0e30a716a9b"
      },
      "execution_count": 31,
      "outputs": [
        {
          "output_type": "stream",
          "name": "stdout",
          "text": [
            "Drive already mounted at /content/drive; to attempt to forcibly remount, call drive.mount(\"/content/drive\", force_remount=True).\n"
          ]
        }
      ]
    },
    {
      "cell_type": "code",
      "source": [
        "data"
      ],
      "metadata": {
        "colab": {
          "base_uri": "https://localhost:8080/",
          "height": 423
        },
        "id": "i8Fk8_l5dSd2",
        "outputId": "bd48138f-baa2-49d3-ca56-e41ab5b0fc25"
      },
      "execution_count": 32,
      "outputs": [
        {
          "output_type": "execute_result",
          "data": {
            "text/plain": [
              "       Temperature  Humidity  Wind Speed  Precipitation (%)  \\\n",
              "0             14.0      73.0         9.5               82.0   \n",
              "1             39.0      96.0         8.5               71.0   \n",
              "2             30.0      64.0         7.0               16.0   \n",
              "3             38.0      83.0         1.5               82.0   \n",
              "4             27.0      74.0        17.0               66.0   \n",
              "...            ...       ...         ...                ...   \n",
              "13195         10.0      74.0        14.5               71.0   \n",
              "13196         -1.0      76.0         3.5               23.0   \n",
              "13197         30.0      77.0         5.5               28.0   \n",
              "13198          3.0      76.0        10.0               94.0   \n",
              "13199         -5.0      38.0         0.0               92.0   \n",
              "\n",
              "       Atmospheric Pressure  UV Index  Visibility (km)    Cloud Cover  Season  \\\n",
              "0                1010.82000       2.0              3.5  partly cloudy  Winter   \n",
              "1                1011.43000       7.0             10.0  partly cloudy  Spring   \n",
              "2                1018.72000       5.0              5.5          clear  Spring   \n",
              "3                1026.25000       7.0              1.0          clear  Spring   \n",
              "4                 990.67000       1.0              2.5       overcast  Winter   \n",
              "...                     ...       ...              ...            ...     ...   \n",
              "13195            1003.15000       1.0              1.0       overcast  Summer   \n",
              "13196            1049.73125       1.0              6.0         cloudy  Winter   \n",
              "13197            1012.69000       3.0              9.0       overcast  Autumn   \n",
              "13198             984.27000       0.0              2.0       overcast  Winter   \n",
              "13199            1015.37000       5.0             10.0       overcast  Autumn   \n",
              "\n",
              "       Location Weather Type  Cluster  \n",
              "0        inland        Rainy        1  \n",
              "1        inland       Cloudy        1  \n",
              "2      mountain        Sunny        0  \n",
              "3       coastal        Sunny        0  \n",
              "4      mountain        Rainy        1  \n",
              "...         ...          ...      ...  \n",
              "13195  mountain        Rainy        1  \n",
              "13196   coastal        Snowy        0  \n",
              "13197   coastal       Cloudy        1  \n",
              "13198    inland        Snowy        1  \n",
              "13199  mountain        Rainy        1  \n",
              "\n",
              "[13200 rows x 12 columns]"
            ],
            "text/html": [
              "\n",
              "  <div id=\"df-2f49137d-1343-464a-9a33-daa3fbc65e36\" class=\"colab-df-container\">\n",
              "    <div>\n",
              "<style scoped>\n",
              "    .dataframe tbody tr th:only-of-type {\n",
              "        vertical-align: middle;\n",
              "    }\n",
              "\n",
              "    .dataframe tbody tr th {\n",
              "        vertical-align: top;\n",
              "    }\n",
              "\n",
              "    .dataframe thead th {\n",
              "        text-align: right;\n",
              "    }\n",
              "</style>\n",
              "<table border=\"1\" class=\"dataframe\">\n",
              "  <thead>\n",
              "    <tr style=\"text-align: right;\">\n",
              "      <th></th>\n",
              "      <th>Temperature</th>\n",
              "      <th>Humidity</th>\n",
              "      <th>Wind Speed</th>\n",
              "      <th>Precipitation (%)</th>\n",
              "      <th>Atmospheric Pressure</th>\n",
              "      <th>UV Index</th>\n",
              "      <th>Visibility (km)</th>\n",
              "      <th>Cloud Cover</th>\n",
              "      <th>Season</th>\n",
              "      <th>Location</th>\n",
              "      <th>Weather Type</th>\n",
              "      <th>Cluster</th>\n",
              "    </tr>\n",
              "  </thead>\n",
              "  <tbody>\n",
              "    <tr>\n",
              "      <th>0</th>\n",
              "      <td>14.0</td>\n",
              "      <td>73.0</td>\n",
              "      <td>9.5</td>\n",
              "      <td>82.0</td>\n",
              "      <td>1010.82000</td>\n",
              "      <td>2.0</td>\n",
              "      <td>3.5</td>\n",
              "      <td>partly cloudy</td>\n",
              "      <td>Winter</td>\n",
              "      <td>inland</td>\n",
              "      <td>Rainy</td>\n",
              "      <td>1</td>\n",
              "    </tr>\n",
              "    <tr>\n",
              "      <th>1</th>\n",
              "      <td>39.0</td>\n",
              "      <td>96.0</td>\n",
              "      <td>8.5</td>\n",
              "      <td>71.0</td>\n",
              "      <td>1011.43000</td>\n",
              "      <td>7.0</td>\n",
              "      <td>10.0</td>\n",
              "      <td>partly cloudy</td>\n",
              "      <td>Spring</td>\n",
              "      <td>inland</td>\n",
              "      <td>Cloudy</td>\n",
              "      <td>1</td>\n",
              "    </tr>\n",
              "    <tr>\n",
              "      <th>2</th>\n",
              "      <td>30.0</td>\n",
              "      <td>64.0</td>\n",
              "      <td>7.0</td>\n",
              "      <td>16.0</td>\n",
              "      <td>1018.72000</td>\n",
              "      <td>5.0</td>\n",
              "      <td>5.5</td>\n",
              "      <td>clear</td>\n",
              "      <td>Spring</td>\n",
              "      <td>mountain</td>\n",
              "      <td>Sunny</td>\n",
              "      <td>0</td>\n",
              "    </tr>\n",
              "    <tr>\n",
              "      <th>3</th>\n",
              "      <td>38.0</td>\n",
              "      <td>83.0</td>\n",
              "      <td>1.5</td>\n",
              "      <td>82.0</td>\n",
              "      <td>1026.25000</td>\n",
              "      <td>7.0</td>\n",
              "      <td>1.0</td>\n",
              "      <td>clear</td>\n",
              "      <td>Spring</td>\n",
              "      <td>coastal</td>\n",
              "      <td>Sunny</td>\n",
              "      <td>0</td>\n",
              "    </tr>\n",
              "    <tr>\n",
              "      <th>4</th>\n",
              "      <td>27.0</td>\n",
              "      <td>74.0</td>\n",
              "      <td>17.0</td>\n",
              "      <td>66.0</td>\n",
              "      <td>990.67000</td>\n",
              "      <td>1.0</td>\n",
              "      <td>2.5</td>\n",
              "      <td>overcast</td>\n",
              "      <td>Winter</td>\n",
              "      <td>mountain</td>\n",
              "      <td>Rainy</td>\n",
              "      <td>1</td>\n",
              "    </tr>\n",
              "    <tr>\n",
              "      <th>...</th>\n",
              "      <td>...</td>\n",
              "      <td>...</td>\n",
              "      <td>...</td>\n",
              "      <td>...</td>\n",
              "      <td>...</td>\n",
              "      <td>...</td>\n",
              "      <td>...</td>\n",
              "      <td>...</td>\n",
              "      <td>...</td>\n",
              "      <td>...</td>\n",
              "      <td>...</td>\n",
              "      <td>...</td>\n",
              "    </tr>\n",
              "    <tr>\n",
              "      <th>13195</th>\n",
              "      <td>10.0</td>\n",
              "      <td>74.0</td>\n",
              "      <td>14.5</td>\n",
              "      <td>71.0</td>\n",
              "      <td>1003.15000</td>\n",
              "      <td>1.0</td>\n",
              "      <td>1.0</td>\n",
              "      <td>overcast</td>\n",
              "      <td>Summer</td>\n",
              "      <td>mountain</td>\n",
              "      <td>Rainy</td>\n",
              "      <td>1</td>\n",
              "    </tr>\n",
              "    <tr>\n",
              "      <th>13196</th>\n",
              "      <td>-1.0</td>\n",
              "      <td>76.0</td>\n",
              "      <td>3.5</td>\n",
              "      <td>23.0</td>\n",
              "      <td>1049.73125</td>\n",
              "      <td>1.0</td>\n",
              "      <td>6.0</td>\n",
              "      <td>cloudy</td>\n",
              "      <td>Winter</td>\n",
              "      <td>coastal</td>\n",
              "      <td>Snowy</td>\n",
              "      <td>0</td>\n",
              "    </tr>\n",
              "    <tr>\n",
              "      <th>13197</th>\n",
              "      <td>30.0</td>\n",
              "      <td>77.0</td>\n",
              "      <td>5.5</td>\n",
              "      <td>28.0</td>\n",
              "      <td>1012.69000</td>\n",
              "      <td>3.0</td>\n",
              "      <td>9.0</td>\n",
              "      <td>overcast</td>\n",
              "      <td>Autumn</td>\n",
              "      <td>coastal</td>\n",
              "      <td>Cloudy</td>\n",
              "      <td>1</td>\n",
              "    </tr>\n",
              "    <tr>\n",
              "      <th>13198</th>\n",
              "      <td>3.0</td>\n",
              "      <td>76.0</td>\n",
              "      <td>10.0</td>\n",
              "      <td>94.0</td>\n",
              "      <td>984.27000</td>\n",
              "      <td>0.0</td>\n",
              "      <td>2.0</td>\n",
              "      <td>overcast</td>\n",
              "      <td>Winter</td>\n",
              "      <td>inland</td>\n",
              "      <td>Snowy</td>\n",
              "      <td>1</td>\n",
              "    </tr>\n",
              "    <tr>\n",
              "      <th>13199</th>\n",
              "      <td>-5.0</td>\n",
              "      <td>38.0</td>\n",
              "      <td>0.0</td>\n",
              "      <td>92.0</td>\n",
              "      <td>1015.37000</td>\n",
              "      <td>5.0</td>\n",
              "      <td>10.0</td>\n",
              "      <td>overcast</td>\n",
              "      <td>Autumn</td>\n",
              "      <td>mountain</td>\n",
              "      <td>Rainy</td>\n",
              "      <td>1</td>\n",
              "    </tr>\n",
              "  </tbody>\n",
              "</table>\n",
              "<p>13200 rows × 12 columns</p>\n",
              "</div>\n",
              "    <div class=\"colab-df-buttons\">\n",
              "\n",
              "  <div class=\"colab-df-container\">\n",
              "    <button class=\"colab-df-convert\" onclick=\"convertToInteractive('df-2f49137d-1343-464a-9a33-daa3fbc65e36')\"\n",
              "            title=\"Convert this dataframe to an interactive table.\"\n",
              "            style=\"display:none;\">\n",
              "\n",
              "  <svg xmlns=\"http://www.w3.org/2000/svg\" height=\"24px\" viewBox=\"0 -960 960 960\">\n",
              "    <path d=\"M120-120v-720h720v720H120Zm60-500h600v-160H180v160Zm220 220h160v-160H400v160Zm0 220h160v-160H400v160ZM180-400h160v-160H180v160Zm440 0h160v-160H620v160ZM180-180h160v-160H180v160Zm440 0h160v-160H620v160Z\"/>\n",
              "  </svg>\n",
              "    </button>\n",
              "\n",
              "  <style>\n",
              "    .colab-df-container {\n",
              "      display:flex;\n",
              "      gap: 12px;\n",
              "    }\n",
              "\n",
              "    .colab-df-convert {\n",
              "      background-color: #E8F0FE;\n",
              "      border: none;\n",
              "      border-radius: 50%;\n",
              "      cursor: pointer;\n",
              "      display: none;\n",
              "      fill: #1967D2;\n",
              "      height: 32px;\n",
              "      padding: 0 0 0 0;\n",
              "      width: 32px;\n",
              "    }\n",
              "\n",
              "    .colab-df-convert:hover {\n",
              "      background-color: #E2EBFA;\n",
              "      box-shadow: 0px 1px 2px rgba(60, 64, 67, 0.3), 0px 1px 3px 1px rgba(60, 64, 67, 0.15);\n",
              "      fill: #174EA6;\n",
              "    }\n",
              "\n",
              "    .colab-df-buttons div {\n",
              "      margin-bottom: 4px;\n",
              "    }\n",
              "\n",
              "    [theme=dark] .colab-df-convert {\n",
              "      background-color: #3B4455;\n",
              "      fill: #D2E3FC;\n",
              "    }\n",
              "\n",
              "    [theme=dark] .colab-df-convert:hover {\n",
              "      background-color: #434B5C;\n",
              "      box-shadow: 0px 1px 3px 1px rgba(0, 0, 0, 0.15);\n",
              "      filter: drop-shadow(0px 1px 2px rgba(0, 0, 0, 0.3));\n",
              "      fill: #FFFFFF;\n",
              "    }\n",
              "  </style>\n",
              "\n",
              "    <script>\n",
              "      const buttonEl =\n",
              "        document.querySelector('#df-2f49137d-1343-464a-9a33-daa3fbc65e36 button.colab-df-convert');\n",
              "      buttonEl.style.display =\n",
              "        google.colab.kernel.accessAllowed ? 'block' : 'none';\n",
              "\n",
              "      async function convertToInteractive(key) {\n",
              "        const element = document.querySelector('#df-2f49137d-1343-464a-9a33-daa3fbc65e36');\n",
              "        const dataTable =\n",
              "          await google.colab.kernel.invokeFunction('convertToInteractive',\n",
              "                                                    [key], {});\n",
              "        if (!dataTable) return;\n",
              "\n",
              "        const docLinkHtml = 'Like what you see? Visit the ' +\n",
              "          '<a target=\"_blank\" href=https://colab.research.google.com/notebooks/data_table.ipynb>data table notebook</a>'\n",
              "          + ' to learn more about interactive tables.';\n",
              "        element.innerHTML = '';\n",
              "        dataTable['output_type'] = 'display_data';\n",
              "        await google.colab.output.renderOutput(dataTable, element);\n",
              "        const docLink = document.createElement('div');\n",
              "        docLink.innerHTML = docLinkHtml;\n",
              "        element.appendChild(docLink);\n",
              "      }\n",
              "    </script>\n",
              "  </div>\n",
              "\n",
              "\n",
              "<div id=\"df-b963d982-90f4-4bb7-b838-5ca548cf95c3\">\n",
              "  <button class=\"colab-df-quickchart\" onclick=\"quickchart('df-b963d982-90f4-4bb7-b838-5ca548cf95c3')\"\n",
              "            title=\"Suggest charts\"\n",
              "            style=\"display:none;\">\n",
              "\n",
              "<svg xmlns=\"http://www.w3.org/2000/svg\" height=\"24px\"viewBox=\"0 0 24 24\"\n",
              "     width=\"24px\">\n",
              "    <g>\n",
              "        <path d=\"M19 3H5c-1.1 0-2 .9-2 2v14c0 1.1.9 2 2 2h14c1.1 0 2-.9 2-2V5c0-1.1-.9-2-2-2zM9 17H7v-7h2v7zm4 0h-2V7h2v10zm4 0h-2v-4h2v4z\"/>\n",
              "    </g>\n",
              "</svg>\n",
              "  </button>\n",
              "\n",
              "<style>\n",
              "  .colab-df-quickchart {\n",
              "      --bg-color: #E8F0FE;\n",
              "      --fill-color: #1967D2;\n",
              "      --hover-bg-color: #E2EBFA;\n",
              "      --hover-fill-color: #174EA6;\n",
              "      --disabled-fill-color: #AAA;\n",
              "      --disabled-bg-color: #DDD;\n",
              "  }\n",
              "\n",
              "  [theme=dark] .colab-df-quickchart {\n",
              "      --bg-color: #3B4455;\n",
              "      --fill-color: #D2E3FC;\n",
              "      --hover-bg-color: #434B5C;\n",
              "      --hover-fill-color: #FFFFFF;\n",
              "      --disabled-bg-color: #3B4455;\n",
              "      --disabled-fill-color: #666;\n",
              "  }\n",
              "\n",
              "  .colab-df-quickchart {\n",
              "    background-color: var(--bg-color);\n",
              "    border: none;\n",
              "    border-radius: 50%;\n",
              "    cursor: pointer;\n",
              "    display: none;\n",
              "    fill: var(--fill-color);\n",
              "    height: 32px;\n",
              "    padding: 0;\n",
              "    width: 32px;\n",
              "  }\n",
              "\n",
              "  .colab-df-quickchart:hover {\n",
              "    background-color: var(--hover-bg-color);\n",
              "    box-shadow: 0 1px 2px rgba(60, 64, 67, 0.3), 0 1px 3px 1px rgba(60, 64, 67, 0.15);\n",
              "    fill: var(--button-hover-fill-color);\n",
              "  }\n",
              "\n",
              "  .colab-df-quickchart-complete:disabled,\n",
              "  .colab-df-quickchart-complete:disabled:hover {\n",
              "    background-color: var(--disabled-bg-color);\n",
              "    fill: var(--disabled-fill-color);\n",
              "    box-shadow: none;\n",
              "  }\n",
              "\n",
              "  .colab-df-spinner {\n",
              "    border: 2px solid var(--fill-color);\n",
              "    border-color: transparent;\n",
              "    border-bottom-color: var(--fill-color);\n",
              "    animation:\n",
              "      spin 1s steps(1) infinite;\n",
              "  }\n",
              "\n",
              "  @keyframes spin {\n",
              "    0% {\n",
              "      border-color: transparent;\n",
              "      border-bottom-color: var(--fill-color);\n",
              "      border-left-color: var(--fill-color);\n",
              "    }\n",
              "    20% {\n",
              "      border-color: transparent;\n",
              "      border-left-color: var(--fill-color);\n",
              "      border-top-color: var(--fill-color);\n",
              "    }\n",
              "    30% {\n",
              "      border-color: transparent;\n",
              "      border-left-color: var(--fill-color);\n",
              "      border-top-color: var(--fill-color);\n",
              "      border-right-color: var(--fill-color);\n",
              "    }\n",
              "    40% {\n",
              "      border-color: transparent;\n",
              "      border-right-color: var(--fill-color);\n",
              "      border-top-color: var(--fill-color);\n",
              "    }\n",
              "    60% {\n",
              "      border-color: transparent;\n",
              "      border-right-color: var(--fill-color);\n",
              "    }\n",
              "    80% {\n",
              "      border-color: transparent;\n",
              "      border-right-color: var(--fill-color);\n",
              "      border-bottom-color: var(--fill-color);\n",
              "    }\n",
              "    90% {\n",
              "      border-color: transparent;\n",
              "      border-bottom-color: var(--fill-color);\n",
              "    }\n",
              "  }\n",
              "</style>\n",
              "\n",
              "  <script>\n",
              "    async function quickchart(key) {\n",
              "      const quickchartButtonEl =\n",
              "        document.querySelector('#' + key + ' button');\n",
              "      quickchartButtonEl.disabled = true;  // To prevent multiple clicks.\n",
              "      quickchartButtonEl.classList.add('colab-df-spinner');\n",
              "      try {\n",
              "        const charts = await google.colab.kernel.invokeFunction(\n",
              "            'suggestCharts', [key], {});\n",
              "      } catch (error) {\n",
              "        console.error('Error during call to suggestCharts:', error);\n",
              "      }\n",
              "      quickchartButtonEl.classList.remove('colab-df-spinner');\n",
              "      quickchartButtonEl.classList.add('colab-df-quickchart-complete');\n",
              "    }\n",
              "    (() => {\n",
              "      let quickchartButtonEl =\n",
              "        document.querySelector('#df-b963d982-90f4-4bb7-b838-5ca548cf95c3 button');\n",
              "      quickchartButtonEl.style.display =\n",
              "        google.colab.kernel.accessAllowed ? 'block' : 'none';\n",
              "    })();\n",
              "  </script>\n",
              "</div>\n",
              "\n",
              "  <div id=\"id_cd25b667-b558-4d1d-bf38-d62bf39c5b11\">\n",
              "    <style>\n",
              "      .colab-df-generate {\n",
              "        background-color: #E8F0FE;\n",
              "        border: none;\n",
              "        border-radius: 50%;\n",
              "        cursor: pointer;\n",
              "        display: none;\n",
              "        fill: #1967D2;\n",
              "        height: 32px;\n",
              "        padding: 0 0 0 0;\n",
              "        width: 32px;\n",
              "      }\n",
              "\n",
              "      .colab-df-generate:hover {\n",
              "        background-color: #E2EBFA;\n",
              "        box-shadow: 0px 1px 2px rgba(60, 64, 67, 0.3), 0px 1px 3px 1px rgba(60, 64, 67, 0.15);\n",
              "        fill: #174EA6;\n",
              "      }\n",
              "\n",
              "      [theme=dark] .colab-df-generate {\n",
              "        background-color: #3B4455;\n",
              "        fill: #D2E3FC;\n",
              "      }\n",
              "\n",
              "      [theme=dark] .colab-df-generate:hover {\n",
              "        background-color: #434B5C;\n",
              "        box-shadow: 0px 1px 3px 1px rgba(0, 0, 0, 0.15);\n",
              "        filter: drop-shadow(0px 1px 2px rgba(0, 0, 0, 0.3));\n",
              "        fill: #FFFFFF;\n",
              "      }\n",
              "    </style>\n",
              "    <button class=\"colab-df-generate\" onclick=\"generateWithVariable('data')\"\n",
              "            title=\"Generate code using this dataframe.\"\n",
              "            style=\"display:none;\">\n",
              "\n",
              "  <svg xmlns=\"http://www.w3.org/2000/svg\" height=\"24px\"viewBox=\"0 0 24 24\"\n",
              "       width=\"24px\">\n",
              "    <path d=\"M7,19H8.4L18.45,9,17,7.55,7,17.6ZM5,21V16.75L18.45,3.32a2,2,0,0,1,2.83,0l1.4,1.43a1.91,1.91,0,0,1,.58,1.4,1.91,1.91,0,0,1-.58,1.4L9.25,21ZM18.45,9,17,7.55Zm-12,3A5.31,5.31,0,0,0,4.9,8.1,5.31,5.31,0,0,0,1,6.5,5.31,5.31,0,0,0,4.9,4.9,5.31,5.31,0,0,0,6.5,1,5.31,5.31,0,0,0,8.1,4.9,5.31,5.31,0,0,0,12,6.5,5.46,5.46,0,0,0,6.5,12Z\"/>\n",
              "  </svg>\n",
              "    </button>\n",
              "    <script>\n",
              "      (() => {\n",
              "      const buttonEl =\n",
              "        document.querySelector('#id_cd25b667-b558-4d1d-bf38-d62bf39c5b11 button.colab-df-generate');\n",
              "      buttonEl.style.display =\n",
              "        google.colab.kernel.accessAllowed ? 'block' : 'none';\n",
              "\n",
              "      buttonEl.onclick = () => {\n",
              "        google.colab.notebook.generateWithVariable('data');\n",
              "      }\n",
              "      })();\n",
              "    </script>\n",
              "  </div>\n",
              "\n",
              "    </div>\n",
              "  </div>\n"
            ],
            "application/vnd.google.colaboratory.intrinsic+json": {
              "type": "dataframe",
              "variable_name": "data",
              "summary": "{\n  \"name\": \"data\",\n  \"rows\": 13200,\n  \"fields\": [\n    {\n      \"column\": \"Temperature\",\n      \"properties\": {\n        \"dtype\": \"number\",\n        \"std\": 17.10866761911788,\n        \"min\": -25.0,\n        \"max\": 71.5,\n        \"num_unique_values\": 98,\n        \"samples\": [\n          50.0,\n          19.0,\n          -21.0\n        ],\n        \"semantic_type\": \"\",\n        \"description\": \"\"\n      }\n    },\n    {\n      \"column\": \"Humidity\",\n      \"properties\": {\n        \"dtype\": \"number\",\n        \"std\": 20.194248090636123,\n        \"min\": 20.0,\n        \"max\": 109.0,\n        \"num_unique_values\": 90,\n        \"samples\": [\n          84.0,\n          72.0,\n          38.0\n        ],\n        \"semantic_type\": \"\",\n        \"description\": \"\"\n      }\n    },\n    {\n      \"column\": \"Wind Speed\",\n      \"properties\": {\n        \"dtype\": \"number\",\n        \"std\": 6.214032044606871,\n        \"min\": 0.0,\n        \"max\": 26.25,\n        \"num_unique_values\": 54,\n        \"samples\": [\n          16.0,\n          21.0,\n          20.5\n        ],\n        \"semantic_type\": \"\",\n        \"description\": \"\"\n      }\n    },\n    {\n      \"column\": \"Precipitation (%)\",\n      \"properties\": {\n        \"dtype\": \"number\",\n        \"std\": 31.94654076998143,\n        \"min\": 0.0,\n        \"max\": 109.0,\n        \"num_unique_values\": 110,\n        \"samples\": [\n          51.0,\n          8.0,\n          26.0\n        ],\n        \"semantic_type\": \"\",\n        \"description\": \"\"\n      }\n    },\n    {\n      \"column\": \"Atmospheric Pressure\",\n      \"properties\": {\n        \"dtype\": \"number\",\n        \"std\": 17.158057783149626,\n        \"min\": 961.8412499999998,\n        \"max\": 1049.7312500000005,\n        \"num_unique_values\": 4551,\n        \"samples\": [\n          1016.3,\n          980.62,\n          1012.02\n        ],\n        \"semantic_type\": \"\",\n        \"description\": \"\"\n      }\n    },\n    {\n      \"column\": \"UV Index\",\n      \"properties\": {\n        \"dtype\": \"number\",\n        \"std\": 3.8566003614288205,\n        \"min\": 0.0,\n        \"max\": 14.0,\n        \"num_unique_values\": 15,\n        \"samples\": [\n          4.0,\n          10.0,\n          2.0\n        ],\n        \"semantic_type\": \"\",\n        \"description\": \"\"\n      }\n    },\n    {\n      \"column\": \"Visibility (km)\",\n      \"properties\": {\n        \"dtype\": \"number\",\n        \"std\": 3.1051178420752232,\n        \"min\": 0.0,\n        \"max\": 14.25,\n        \"num_unique_values\": 30,\n        \"samples\": [\n          13.5,\n          4.5,\n          11.0\n        ],\n        \"semantic_type\": \"\",\n        \"description\": \"\"\n      }\n    },\n    {\n      \"column\": \"Cloud Cover\",\n      \"properties\": {\n        \"dtype\": \"category\",\n        \"num_unique_values\": 4,\n        \"samples\": [\n          \"clear\",\n          \"cloudy\",\n          \"partly cloudy\"\n        ],\n        \"semantic_type\": \"\",\n        \"description\": \"\"\n      }\n    },\n    {\n      \"column\": \"Season\",\n      \"properties\": {\n        \"dtype\": \"category\",\n        \"num_unique_values\": 4,\n        \"samples\": [\n          \"Spring\",\n          \"Autumn\",\n          \"Winter\"\n        ],\n        \"semantic_type\": \"\",\n        \"description\": \"\"\n      }\n    },\n    {\n      \"column\": \"Location\",\n      \"properties\": {\n        \"dtype\": \"category\",\n        \"num_unique_values\": 3,\n        \"samples\": [\n          \"inland\",\n          \"mountain\",\n          \"coastal\"\n        ],\n        \"semantic_type\": \"\",\n        \"description\": \"\"\n      }\n    },\n    {\n      \"column\": \"Weather Type\",\n      \"properties\": {\n        \"dtype\": \"category\",\n        \"num_unique_values\": 4,\n        \"samples\": [\n          \"Cloudy\",\n          \"Snowy\",\n          \"Rainy\"\n        ],\n        \"semantic_type\": \"\",\n        \"description\": \"\"\n      }\n    },\n    {\n      \"column\": \"Cluster\",\n      \"properties\": {\n        \"dtype\": \"number\",\n        \"std\": 0,\n        \"min\": 0,\n        \"max\": 1,\n        \"num_unique_values\": 2,\n        \"samples\": [\n          0,\n          1\n        ],\n        \"semantic_type\": \"\",\n        \"description\": \"\"\n      }\n    }\n  ]\n}"
            }
          },
          "metadata": {},
          "execution_count": 32
        }
      ]
    },
    {
      "cell_type": "markdown",
      "source": [
        "# **3. Data Splitting**"
      ],
      "metadata": {
        "id": "KkPem5eWL2UP"
      }
    },
    {
      "cell_type": "markdown",
      "source": [
        "Tahap Data Splitting bertujuan untuk memisahkan dataset menjadi dua bagian: data latih (training set) dan data uji (test set)."
      ],
      "metadata": {
        "id": "YYj1rl_JNI9Y"
      }
    },
    {
      "cell_type": "code",
      "source": [
        "# Membagi data menjadi data latih dan data uji\n",
        "data_train, data_test = train_test_split(data, test_size=0.2, random_state=42)\n",
        "\n",
        "# Menampilkan jumlah data latih dan data uji\n",
        "print(\"Jumlah data latih:\", data_train.shape[0])\n",
        "print(\"Jumlah data uji:\", data_test.shape[0])\n"
      ],
      "metadata": {
        "id": "OubAW-7ONKVj",
        "colab": {
          "base_uri": "https://localhost:8080/"
        },
        "outputId": "4242ed91-61cc-459c-b750-6acd77ea5216"
      },
      "execution_count": 33,
      "outputs": [
        {
          "output_type": "stream",
          "name": "stdout",
          "text": [
            "Jumlah data latih: 10560\n",
            "Jumlah data uji: 2640\n"
          ]
        }
      ]
    },
    {
      "cell_type": "markdown",
      "source": [
        "# **4. Membangun Model Klasifikasi**\n"
      ],
      "metadata": {
        "id": "IVPbB03CMhTT"
      }
    },
    {
      "cell_type": "code",
      "source": [
        "# Memisahkan fitur (X) dan target (y) dari data latih dan data uji\n",
        "X_train = data_train.drop(columns=['Cluster'])  # Gantilah 'target' dengan nama kolom target yang sesuai\n",
        "y_train = data_train['Cluster']\n",
        "X_test = data_test.drop(columns=['Cluster'])\n",
        "y_test = data_test['Cluster']"
      ],
      "metadata": {
        "id": "XfU-AJhEd6LT"
      },
      "execution_count": 34,
      "outputs": []
    },
    {
      "cell_type": "code",
      "source": [
        "print(X_train.dtypes)\n",
        "print(X_test.dtypes)\n"
      ],
      "metadata": {
        "colab": {
          "base_uri": "https://localhost:8080/"
        },
        "id": "fza5sZWKf-VD",
        "outputId": "0dd24875-c1fe-4491-e738-8debfa2b1852"
      },
      "execution_count": 35,
      "outputs": [
        {
          "output_type": "stream",
          "name": "stdout",
          "text": [
            "Temperature             float64\n",
            "Humidity                float64\n",
            "Wind Speed              float64\n",
            "Precipitation (%)       float64\n",
            "Atmospheric Pressure    float64\n",
            "UV Index                float64\n",
            "Visibility (km)         float64\n",
            "Cloud Cover              object\n",
            "Season                   object\n",
            "Location                 object\n",
            "Weather Type             object\n",
            "dtype: object\n",
            "Temperature             float64\n",
            "Humidity                float64\n",
            "Wind Speed              float64\n",
            "Precipitation (%)       float64\n",
            "Atmospheric Pressure    float64\n",
            "UV Index                float64\n",
            "Visibility (km)         float64\n",
            "Cloud Cover              object\n",
            "Season                   object\n",
            "Location                 object\n",
            "Weather Type             object\n",
            "dtype: object\n"
          ]
        }
      ]
    },
    {
      "cell_type": "code",
      "source": [
        "from sklearn.preprocessing import LabelEncoder\n",
        "\n",
        "le = LabelEncoder()\n",
        "for col in X_train.select_dtypes(include=['object']).columns:\n",
        "    X_train[col] = le.fit_transform(X_train[col])\n",
        "    X_test[col] = le.transform(X_test[col])\n"
      ],
      "metadata": {
        "id": "Hymoj7zVf_-U"
      },
      "execution_count": 36,
      "outputs": []
    },
    {
      "cell_type": "markdown",
      "source": [
        "## **a. Membangun Model Klasifikasi**\n",
        "\n"
      ],
      "metadata": {
        "id": "Ned1pL9zMmBK"
      }
    },
    {
      "cell_type": "markdown",
      "source": [
        "Setelah memilih algoritma klasifikasi yang sesuai, langkah selanjutnya adalah melatih model menggunakan data latih.\n",
        "\n",
        "Berikut adalah rekomendasi tahapannya.\n",
        "1. Pilih algoritma klasifikasi yang sesuai, seperti Logistic Regression, Decision Tree, Random Forest, atau K-Nearest Neighbors (KNN).\n",
        "2. Latih model menggunakan data latih."
      ],
      "metadata": {
        "id": "WAWzPOE4Nkti"
      }
    },
    {
      "cell_type": "markdown",
      "source": [
        "Menggunakan Algoritma KNN"
      ],
      "metadata": {
        "id": "87zfMthfhJ8R"
      }
    },
    {
      "cell_type": "code",
      "source": [
        "# Mencari nilai k yang optimal\n",
        "k_values = range(1, 21)\n",
        "accuracies = []\n",
        "\n",
        "for k in k_values:\n",
        "    knn = KNeighborsClassifier(n_neighbors=k)\n",
        "    knn.fit(X_train, y_train)\n",
        "    y_pred = knn.predict(X_test)\n",
        "    accuracies.append(accuracy_score(y_test, y_pred))\n",
        "\n",
        "# Menampilkan grafik akurasi vs jumlah tetangga\n",
        "plt.plot(k_values, accuracies, marker='o')\n",
        "plt.xlabel('Jumlah Tetangga (k)')\n",
        "plt.ylabel('Akurasi')\n",
        "plt.title('Menentukan Nilai k Optimal')\n",
        "plt.show()\n",
        "\n",
        "# Memilih k dengan akurasi tertinggi\n",
        "best_k = k_values[np.argmax(accuracies)]\n",
        "print(f'Nilai k terbaik: {best_k}')\n",
        "\n",
        "# Membuat model KNN dengan k optimal\n",
        "knn = KNeighborsClassifier(n_neighbors=best_k)\n",
        "knn.fit(X_train, y_train)\n",
        "\n",
        "# Memprediksi data uji\n",
        "y_pred = knn.predict(X_test)\n",
        "\n",
        "# Menghitung akurasi akhir\n",
        "accuracy = accuracy_score(y_test, y_pred)\n",
        "print(\"Akurasi model KNN dengan k terbaik:\", accuracy)\n"
      ],
      "metadata": {
        "id": "4JYxBe87NLDk",
        "colab": {
          "base_uri": "https://localhost:8080/",
          "height": 507
        },
        "outputId": "143f3844-5d86-4677-ec2e-99afff7392fa"
      },
      "execution_count": 37,
      "outputs": [
        {
          "output_type": "display_data",
          "data": {
            "text/plain": [
              "<Figure size 640x480 with 1 Axes>"
            ],
            "image/png": "[encoded data removed]"
          },
          "metadata": {}
        },
        {
          "output_type": "stream",
          "name": "stdout",
          "text": [
            "Nilai k terbaik: 6\n",
            "Akurasi model KNN dengan k terbaik: 0.9651515151515152\n"
          ]
        }
      ]
    },
    {
      "cell_type": "markdown",
      "source": [
        "**Penjelasan Algoritma K-Nearest Neighbors (KNN)**\n",
        "\n",
        "**1. Konsep KNN**\n",
        "K-Nearest Neighbors (KNN) adalah algoritma klasifikasi yang menentukan kelas suatu sampel berdasarkan mayoritas kelas dari \\( k \\) tetangga terdekat.\n",
        "\n",
        "**2. Mencari Nilai \\( k \\) Optimal**\n",
        "- Dicoba berbagai nilai \\( k \\) dari 1 hingga 20.\n",
        "- Model KNN dilatih untuk setiap \\( k \\), lalu diuji pada dataset uji.\n",
        "- Akurasi dihitung dan diplot dalam grafik **akurasi vs jumlah tetangga**.\n",
        "- Nilai \\( k \\) terbaik dipilih berdasarkan akurasi tertinggi.\n",
        "\n",
        "**3. Pelatihan Model dengan \\( k \\) Optimal**\n",
        "- Model KNN dilatih ulang dengan nilai \\( k \\) terbaik.\n",
        "- Digunakan untuk memprediksi data uji.\n",
        "- Akurasi akhir dihitung untuk mengevaluasi performa model.\n",
        "\n",
        "**4. Kesimpulan**\n",
        "- KNN bekerja dengan mencari tetangga terdekat menggunakan metrik jarak (misal **Euclidean Distance**).\n",
        "- Pemilihan \\( k \\) optimal mencegah overfitting dan underfitting.\n",
        "- Model yang telah dioptimalkan dapat memberikan prediksi yang lebih akurat.\n"
      ],
      "metadata": {
        "id": "seYoHNY3XU1y"
      }
    },
    {
      "cell_type": "markdown",
      "source": [
        "Menggunakan Algoritma Random Forest"
      ],
      "metadata": {
        "id": "DkoYE5Ygj2Z4"
      }
    },
    {
      "cell_type": "code",
      "source": [
        "# Membuat model Random Forest\n",
        "rf = RandomForestClassifier(n_estimators=100, random_state=42)\n",
        "rf.fit(X_train, y_train)\n",
        "\n",
        "# Memprediksi data uji\n",
        "y_pred = rf.predict(X_test)\n",
        "# Menghitung akurasi\n",
        "accuracy = accuracy_score(y_test, y_pred)\n",
        "print(f'Akurasi model Random Forest: {accuracy}')\n",
        "\n",
        "# Menampilkan laporan klasifikasi\n",
        "print(\"Laporan Klasifikasi:\")\n",
        "print(classification_report(y_test, y_pred))"
      ],
      "metadata": {
        "colab": {
          "base_uri": "https://localhost:8080/"
        },
        "id": "Dp2PcC8onesh",
        "outputId": "fdd1f790-e466-4653-c117-c92d3480b1fd"
      },
      "execution_count": 38,
      "outputs": [
        {
          "output_type": "stream",
          "name": "stdout",
          "text": [
            "Akurasi model Random Forest: 0.981439393939394\n",
            "Laporan Klasifikasi:\n",
            "              precision    recall  f1-score   support\n",
            "\n",
            "           0       0.96      0.97      0.96       692\n",
            "           1       0.99      0.98      0.99      1948\n",
            "\n",
            "    accuracy                           0.98      2640\n",
            "   macro avg       0.97      0.98      0.98      2640\n",
            "weighted avg       0.98      0.98      0.98      2640\n",
            "\n"
          ]
        }
      ]
    },
    {
      "cell_type": "markdown",
      "source": [
        "**Penjelasan Algoritma Random Forest**\n",
        "\n",
        "**1. Konsep Random Forest**\n",
        "Random Forest adalah algoritma **ensemble learning** berbasis pohon keputusan yang menggunakan banyak **decision tree** untuk meningkatkan akurasi prediksi dan mengurangi overfitting.\n",
        "\n",
        "**2. Pembuatan Model**\n",
        "- Model **RandomForestClassifier** dibuat dengan **100 pohon keputusan (n_estimators=100)**.\n",
        "- **random_state=42** digunakan untuk memastikan hasil yang konsisten.\n",
        "\n",
        "**3. Pelatihan Model**\n",
        "- Model dilatih menggunakan **X_train** dan **y_train** untuk membangun beberapa pohon keputusan.\n",
        "- Setiap pohon dibuat dari subset data secara acak, meningkatkan ketahanan terhadap overfitting.\n",
        "\n",
        "**4. Prediksi Data Uji**\n",
        "- Model digunakan untuk **memprediksi data uji (X_test)**.\n",
        "- Hasil prediksi dibandingkan dengan nilai sebenarnya untuk mengevaluasi performa model.\n",
        "\n",
        "**5. Keunggulan Random Forest**\n",
        "- **Lebih akurat** dibanding satu pohon keputusan.\n",
        "- **Tahan terhadap overfitting** karena menggabungkan banyak pohon.\n",
        "- **Dapat menangani fitur numerik dan kategorikal** dengan baik.\n",
        "\n",
        "**Kesimpulan**\n",
        "Random Forest adalah metode yang kuat untuk klasifikasi, terutama ketika dataset memiliki banyak fitur dan kompleksitas tinggi. Dengan menggunakan banyak pohon keputusan, model dapat menghasilkan prediksi yang stabil dan akurat.\n"
      ],
      "metadata": {
        "id": "zlvTN664nvdN"
      }
    },
    {
      "cell_type": "markdown",
      "source": [
        "## **b. Evaluasi Model Klasifikasi **"
      ],
      "metadata": {
        "id": "ergzChZFEL-O"
      }
    },
    {
      "cell_type": "markdown",
      "source": [
        "Berikut adalah **rekomendasi** tahapannya.\n",
        "1. Lakukan prediksi menggunakan data uji.\n",
        "2. Hitung metrik evaluasi seperti Accuracy dan F1-Score (Opsional: Precision dan Recall).\n",
        "3. Buat confusion matrix untuk melihat detail prediksi benar dan salah."
      ],
      "metadata": {
        "id": "zOm68u-7NpLT"
      }
    },
    {
      "cell_type": "markdown",
      "source": [
        "Evaluasi model KNN"
      ],
      "metadata": {
        "id": "Iw-yqLnLoG7O"
      }
    },
    {
      "cell_type": "code",
      "source": [
        "# Memprediksi data uji\n",
        "y_pred = knn.predict(X_test)\n",
        "\n",
        "# Menghitung akurasi akhir\n",
        "accuracy = accuracy_score(y_test, y_pred)\n",
        "print(\"Akurasi model KNN dengan k terbaik:\", accuracy)\n",
        "# Menghitung F1-score\n",
        "f1 = f1_score(y_test, y_pred, average='weighted')  # Bisa diganti dengan 'macro', 'micro', atau 'weighted'\n",
        "print(\"F1-score:\", f1)\n",
        "# Menghitung metrik evaluasi lainnya\n",
        "print(\"Laporan Klasifikasi:\")\n",
        "print(classification_report(y_test, y_pred))\n",
        "\n",
        "# Membuat confusion matrix\n",
        "conf_matrix = confusion_matrix(y_test, y_pred)\n",
        "plt.figure(figsize=(6, 5))\n",
        "sns.heatmap(conf_matrix, annot=True, fmt='d', cmap='Blues', xticklabels=np.unique(y_test), yticklabels=np.unique(y_test))\n",
        "plt.xlabel('Predicted')\n",
        "plt.ylabel('Actual')\n",
        "plt.title('Confusion Matrix')\n",
        "plt.show()\n"
      ],
      "metadata": {
        "id": "tMq4QAssNLip",
        "colab": {
          "base_uri": "https://localhost:8080/",
          "height": 695
        },
        "outputId": "dde123ba-77ac-43fc-f6af-5aba6b23a987"
      },
      "execution_count": 39,
      "outputs": [
        {
          "output_type": "stream",
          "name": "stdout",
          "text": [
            "Akurasi model KNN dengan k terbaik: 0.9651515151515152\n",
            "F1-score: 0.9651352392647606\n",
            "Laporan Klasifikasi:\n",
            "              precision    recall  f1-score   support\n",
            "\n",
            "           0       0.93      0.93      0.93       692\n",
            "           1       0.98      0.98      0.98      1948\n",
            "\n",
            "    accuracy                           0.97      2640\n",
            "   macro avg       0.96      0.95      0.95      2640\n",
            "weighted avg       0.97      0.97      0.97      2640\n",
            "\n"
          ]
        },
        {
          "output_type": "display_data",
          "data": {
            "text/plain": [
              "<Figure size 600x500 with 2 Axes>"
            ],
            "image/png": "[encoded data removed]"
          },
          "metadata": {}
        }
      ]
    },
    {
      "cell_type": "markdown",
      "source": [
        "Evaluasi Model Random Forest"
      ],
      "metadata": {
        "id": "hPCF27OJoQbd"
      }
    },
    {
      "cell_type": "code",
      "source": [
        "y_pred = rf.predict(X_test)\n",
        "# Menghitung akurasi akhir\n",
        "accuracy = accuracy_score(y_test, y_pred)\n",
        "print(\"Akurasi model Random Forest:\", accuracy)\n",
        "# Menghitung F1-score\n",
        "f1_rf= f1_score(y_test, y_pred_knn, average='weighted')  # Bisa diganti 'macro', 'micro', atau 'weighted'\n",
        "print(\"F1-score Random Forest:\", f1_rf)\n",
        "\n",
        "# Menghitung metrik evaluasi lainnya\n",
        "print(\"Laporan Klasifikasi:\")\n",
        "print(classification_report(y_test, y_pred))\n",
        "\n",
        "# Membuat confusion matrix\n",
        "conf_matrix = confusion_matrix(y_test, y_pred)\n",
        "plt.figure(figsize=(6, 5))\n",
        "sns.heatmap(conf_matrix, annot=True, fmt='d', cmap='Blues', xticklabels=np.unique(y_test), yticklabels=np.unique(y_test))\n",
        "plt.xlabel('Predicted')\n",
        "plt.ylabel('Actual')\n",
        "plt.title('Confusion Matrix')\n",
        "plt.show()"
      ],
      "metadata": {
        "colab": {
          "base_uri": "https://localhost:8080/",
          "height": 695
        },
        "id": "QVVe_OKaoUXG",
        "outputId": "a7906046-e166-4a25-ec72-8ce51ff2a779"
      },
      "execution_count": 41,
      "outputs": [
        {
          "output_type": "stream",
          "name": "stdout",
          "text": [
            "Akurasi model Random Forest: 0.981439393939394\n",
            "F1-score Random Forest: 0.9611410018552876\n",
            "Laporan Klasifikasi:\n",
            "              precision    recall  f1-score   support\n",
            "\n",
            "           0       0.96      0.97      0.96       692\n",
            "           1       0.99      0.98      0.99      1948\n",
            "\n",
            "    accuracy                           0.98      2640\n",
            "   macro avg       0.97      0.98      0.98      2640\n",
            "weighted avg       0.98      0.98      0.98      2640\n",
            "\n"
          ]
        },
        {
          "output_type": "display_data",
          "data": {
            "text/plain": [
              "<Figure size 600x500 with 2 Axes>"
            ],
            "image/png": "[encoded data removed]"
          },
          "metadata": {}
        }
      ]
    },
    {
      "cell_type": "markdown",
      "source": [
        "# Perbandingan Kinerja Model KNN dan Random Forest  \n",
        "\n",
        "1. Evaluasi Model KNN  \n",
        "- **Akurasi**: 0.9651  \n",
        "- **F1-score**: 0.9651  \n",
        "- **Precision & Recall**:  \n",
        "  - **Kelas 0**: Precision (0.93), Recall (0.93)  \n",
        "  - **Kelas 1**: Precision (0.98), Recall (0.98)  \n",
        "- **Kesimpulan**:  \n",
        "  - Model KNN memiliki akurasi yang cukup tinggi.  \n",
        "  - Recall untuk kelas 0 lebih rendah dibanding kelas 1, yang menunjukkan model lebih baik dalam mendeteksi kelas mayoritas.  \n",
        "  - Model masih cukup seimbang antara precision dan recall.  \n",
        "\n",
        "2. Evaluasi Model Random Forest  \n",
        "- **Akurasi**: 0.9814  \n",
        "- **F1-score**: 0.9611  \n",
        "- **Precision & Recall**:  \n",
        "  - **Kelas 0**: Precision (0.96), Recall (0.97)  \n",
        "  - **Kelas 1**: Precision (0.99), Recall (0.98)  \n",
        "- **Kesimpulan**:  \n",
        "  - Random Forest memiliki akurasi lebih tinggi dibanding KNN.  \n",
        "  - Precision dan recall lebih stabil untuk kedua kelas.  \n",
        "  - Model Random Forest tampaknya lebih baik dalam menangani perbedaan kelas dibanding KNN.  \n",
        "\n",
        "3. Kesimpulan Perbandingan  \n",
        "- **Random Forest memiliki akurasi lebih tinggi (0.98 vs 0.96 pada KNN)**, sehingga lebih unggul dalam memprediksi dengan lebih sedikit kesalahan.  \n",
        "- **KNN masih memiliki performa baik**, tetapi lebih rentan terhadap noise dalam dataset dibandingkan Random Forest.  \n",
        "- **Random Forest lebih stabil dalam menangani berbagai karakteristik data**, terutama dalam mendeteksi kelas dengan distribusi yang berbeda.  \n",
        "\n",
        "4. Rekomendasi  \n",
        "- **Gunakan Random Forest** jika ingin akurasi lebih tinggi dan model yang lebih stabil.  \n",
        "- **Gunakan KNN** jika dataset lebih kecil dan tidak terlalu kompleks.  \n",
        "- Jika akurasi masih bisa ditingkatkan, bisa dilakukan **hyperparameter tuning** pada kedua model untuk hasil yang lebih optimal.  \n"
      ],
      "metadata": {
        "id": "H4_9OwrsXZlz"
      }
    },
    {
      "cell_type": "markdown",
      "source": [
        "## **c. Tuning Model Klasifikasi (Optional)**"
      ],
      "metadata": {
        "id": "ph9yIYDXEPuB"
      }
    },
    {
      "cell_type": "markdown",
      "source": [
        "Tuning Model Klasifikasi KNN"
      ],
      "metadata": {
        "id": "Ddn3aY-TpXG1"
      }
    },
    {
      "cell_type": "markdown",
      "source": [
        "Gunakan GridSearchCV, RandomizedSearchCV, atau metode lainnya untuk mencari kombinasi hyperparameter terbaik"
      ],
      "metadata": {
        "id": "-Bikx3LINv5e"
      }
    },
    {
      "cell_type": "code",
      "source": [
        "from sklearn.model_selection import GridSearchCV\n",
        "# Hyperparameter tuning untuk KNN\n",
        "param_grid_knn = {'n_neighbors': range(1, 21)}\n",
        "grid_knn = GridSearchCV(KNeighborsClassifier(), param_grid_knn, cv=5, scoring='accuracy')\n",
        "grid_knn.fit(X_train, y_train)\n",
        "\n",
        "best_k = grid_knn.best_params_['n_neighbors']\n",
        "print(f'Nilai k terbaik: {best_k}')\n",
        "\n",
        "# Membuat model KNN dengan hyperparameter terbaik\n",
        "knn = KNeighborsClassifier(n_neighbors=best_k)\n",
        "knn.fit(X_train, y_train)\n",
        "y_pred_knn = knn.predict(X_test)\n",
        "\n"
      ],
      "metadata": {
        "id": "winbFzb8NL95",
        "colab": {
          "base_uri": "https://localhost:8080/"
        },
        "outputId": "9b14556f-8184-4ee6-e450-d4635a3da5f8"
      },
      "execution_count": 25,
      "outputs": [
        {
          "output_type": "stream",
          "name": "stdout",
          "text": [
            "Nilai k terbaik: 17\n"
          ]
        }
      ]
    },
    {
      "cell_type": "markdown",
      "source": [
        "Tuning Model Klasifikasi Random Forest"
      ],
      "metadata": {
        "id": "1hPPIfGTpoYg"
      }
    },
    {
      "cell_type": "code",
      "source": [
        "# Hyperparameter tuning untuk Random Forest\n",
        "param_grid_rf = {\n",
        "    'n_estimators': [50, 100, 150],\n",
        "    'max_depth': [None, 10, 20],\n",
        "    'min_samples_split': [2, 5, 10]\n",
        "}\n",
        "grid_rf = GridSearchCV(RandomForestClassifier(random_state=42), param_grid_rf, cv=5, scoring='accuracy')\n",
        "grid_rf.fit(X_train, y_train)\n",
        "\n",
        "best_params_rf = grid_rf.best_params_\n",
        "print(f'Hyperparameter terbaik untuk Random Forest: {best_params_rf}')\n",
        "\n",
        "# Membuat model Random Forest dengan hyperparameter terbaik\n",
        "rf = RandomForestClassifier(**best_params_rf, random_state=42)\n",
        "rf.fit(X_train, y_train)\n",
        "y_pred_rf = rf.predict(X_test)\n"
      ],
      "metadata": {
        "colab": {
          "base_uri": "https://localhost:8080/"
        },
        "id": "FJ7LGE-bpuwu",
        "outputId": "4047815d-4f00-4f7b-b783-fedc4517eaa7"
      },
      "execution_count": 26,
      "outputs": [
        {
          "output_type": "stream",
          "name": "stdout",
          "text": [
            "Hyperparameter terbaik untuk Random Forest: {'max_depth': None, 'min_samples_split': 2, 'n_estimators': 150}\n"
          ]
        }
      ]
    },
    {
      "cell_type": "markdown",
      "source": [
        "## **d. Evaluasi Model Klasifikasi setelah Tuning (Optional)**"
      ],
      "metadata": {
        "id": "hE7pqlEPEYzI"
      }
    },
    {
      "cell_type": "markdown",
      "source": [
        "Berikut adalah rekomendasi tahapannya.\n",
        "1. Gunakan model dengan hyperparameter terbaik.\n",
        "2. Hitung ulang metrik evaluasi untuk melihat apakah ada peningkatan performa."
      ],
      "metadata": {
        "id": "feaPESoeN0zz"
      }
    },
    {
      "cell_type": "markdown",
      "source": [
        "Evaluasi stelah Tuning KNN"
      ],
      "metadata": {
        "id": "KOmiYRRkp8W2"
      }
    },
    {
      "cell_type": "code",
      "source": [
        "# Evaluasi KNN\n",
        "print(\"Akurasi model KNN:\", accuracy_score(y_test, y_pred_knn))\n",
        "# Menghitung F1-score\n",
        "f1_knntuning = f1_score(y_test, y_pred_knn, average='weighted')  # Bisa diganti 'macro', 'micro', atau 'weighted'\n",
        "print(\"F1-score KNN:\", f1_knntuning)\n",
        "print(\"Laporan Klasifikasi KNN:\")\n",
        "print(classification_report(y_test, y_pred_knn))\n",
        "\n",
        "# Confusion matrix KNN\n",
        "conf_matrix_knn = confusion_matrix(y_test, y_pred_knn)\n",
        "plt.figure(figsize=(6, 5))\n",
        "sns.heatmap(conf_matrix_knn, annot=True, fmt='d', cmap='Blues', xticklabels=np.unique(y_test), yticklabels=np.unique(y_test))\n",
        "plt.xlabel('Predicted')\n",
        "plt.ylabel('Actual')\n",
        "plt.title('Confusion Matrix KNN')\n",
        "plt.show()\n"
      ],
      "metadata": {
        "id": "HTXZRvEeNMb1",
        "colab": {
          "base_uri": "https://localhost:8080/",
          "height": 695
        },
        "outputId": "b7495ab4-f9ae-4a70-f132-5cc5e4a8153f"
      },
      "execution_count": 21,
      "outputs": [
        {
          "output_type": "stream",
          "name": "stdout",
          "text": [
            "Akurasi model KNN: 0.9613636363636363\n",
            "F1-score KNN: 0.9611410018552876\n",
            "Laporan Klasifikasi KNN:\n",
            "              precision    recall  f1-score   support\n",
            "\n",
            "           0       0.94      0.91      0.93       692\n",
            "           1       0.97      0.98      0.97      1948\n",
            "\n",
            "    accuracy                           0.96      2640\n",
            "   macro avg       0.95      0.94      0.95      2640\n",
            "weighted avg       0.96      0.96      0.96      2640\n",
            "\n"
          ]
        },
        {
          "output_type": "display_data",
          "data": {
            "text/plain": [
              "<Figure size 600x500 with 2 Axes>"
            ],
            "image/png": "[encoded data removed]"
          },
          "metadata": {}
        }
      ]
    },
    {
      "cell_type": "markdown",
      "source": [
        "Evaluasi setelah tuning Random Forest"
      ],
      "metadata": {
        "id": "7pJ3CHbxqFj3"
      }
    },
    {
      "cell_type": "code",
      "source": [
        "# Evaluasi Random Forest\n",
        "print(\"Akurasi model Random Forest:\", accuracy_score(y_test, y_pred_rf))\n",
        "# Menghitung F1-score\n",
        "f1_rftuning = f1_score(y_test, y_pred_knn, average='weighted')  # Bisa diganti 'macro', 'micro', atau 'weighted'\n",
        "print(\"F1-score Random Forest:\", f1_rftuning)\n",
        "print(\"Laporan Klasifikasi Random Forest:\")\n",
        "print(classification_report(y_test, y_pred_rf))\n",
        "\n",
        "# Confusion matrix Random Forest\n",
        "conf_matrix_rf = confusion_matrix(y_test, y_pred_rf)\n",
        "plt.figure(figsize=(6, 5))\n",
        "sns.heatmap(conf_matrix_rf, annot=True, fmt='d', cmap='Blues', xticklabels=np.unique(y_test), yticklabels=np.unique(y_test))\n",
        "plt.xlabel('Predicted')\n",
        "plt.ylabel('Actual')\n",
        "plt.title('Confusion Matrix Random Forest')\n",
        "plt.show()"
      ],
      "metadata": {
        "colab": {
          "base_uri": "https://localhost:8080/",
          "height": 695
        },
        "id": "MrSvmBGzqJyd",
        "outputId": "85676272-6c3d-458f-8868-5f2bd8c2b12f"
      },
      "execution_count": 42,
      "outputs": [
        {
          "output_type": "stream",
          "name": "stdout",
          "text": [
            "Akurasi model Random Forest: 0.9837121212121213\n",
            "F1-score Random Forest: 0.9611410018552876\n",
            "Laporan Klasifikasi Random Forest:\n",
            "              precision    recall  f1-score   support\n",
            "\n",
            "           0       0.96      0.98      0.97       692\n",
            "           1       0.99      0.99      0.99      1948\n",
            "\n",
            "    accuracy                           0.98      2640\n",
            "   macro avg       0.98      0.98      0.98      2640\n",
            "weighted avg       0.98      0.98      0.98      2640\n",
            "\n"
          ]
        },
        {
          "output_type": "display_data",
          "data": {
            "text/plain": [
              "<Figure size 600x500 with 2 Axes>"
            ],
            "image/png": "[encoded data removed]"
          },
          "metadata": {}
        }
      ]
    },
    {
      "cell_type": "markdown",
      "source": [
        "## **e. Analisis Hasil Evaluasi Model Klasifikasi**"
      ],
      "metadata": {
        "id": "ZRsOdm4uEgAW"
      }
    },
    {
      "cell_type": "markdown",
      "source": [
        "Berikut adalah **rekomendasi** tahapannya.\n",
        "1. Bandingkan hasil evaluasi sebelum dan setelah tuning (jika dilakukan).\n",
        "2. Identifikasi kelemahan model, seperti:\n",
        "  - Precision atau Recall rendah untuk kelas tertentu.\n",
        "  - Apakah model mengalami overfitting atau underfitting?\n",
        "3. Berikan rekomendasi tindakan lanjutan, seperti mengumpulkan data tambahan atau mencoba algoritma lain jika hasil belum memuaskan."
      ],
      "metadata": {
        "id": "Hm3BhSi6N4_l"
      }
    },
    {
      "cell_type": "markdown",
      "source": [
        "# Perbandingan Kinerja Model KNN dan Random Forest Setelah Tuning  \n",
        "\n",
        "1. Evaluasi Model KNN Setelah Tuning  \n",
        "- **Akurasi**: 0.9614  \n",
        "- **F1-score**: 0.9611  \n",
        "- **Precision & Recall**:  \n",
        "  - **Kelas 0**: Precision (0.94), Recall (0.91)  \n",
        "  - **Kelas 1**: Precision (0.97), Recall (0.98)  \n",
        "- **Kesimpulan**:  \n",
        "  - Akurasi sedikit menurun dibanding sebelum tuning (0.9651 → 0.9614).  \n",
        "  - Recall untuk kelas 0 masih lebih rendah dibanding kelas 1, menunjukkan kesulitan dalam mendeteksi kelas minoritas.  \n",
        "  - Model tetap seimbang antara precision dan recall.  \n",
        "\n",
        "2. Evaluasi Model Random Forest Setelah Tuning  \n",
        "- **Akurasi**: 0.9837  \n",
        "- **F1-score**: 0.9611  \n",
        "- **Precision & Recall**:  \n",
        "  - **Kelas 0**: Precision (0.96), Recall (0.98)  \n",
        "  - **Kelas 1**: Precision (0.99), Recall (0.99)  \n",
        "- **Kesimpulan**:  \n",
        "  - Akurasi meningkat dibanding sebelum tuning (0.9814 → 0.9837).  \n",
        "  - Precision dan recall lebih stabil untuk kedua kelas.  \n",
        "  - Model lebih baik dalam menangani distribusi kelas dan lebih akurat dibanding KNN.  \n",
        "\n",
        "3. Kesimpulan Perbandingan  \n",
        "- **Random Forest tetap unggul** dengan akurasi lebih tinggi (0.9837 vs 0.9614 pada KNN).  \n",
        "- **KNN mengalami sedikit penurunan performa setelah tuning**, mungkin karena sensitivitas terhadap parameter k.  \n",
        "- **Random Forest lebih konsisten** dalam memprediksi kedua kelas dengan precision dan recall yang lebih baik.  \n",
        "\n",
        "4. Rekomendasi  \n",
        "- **Gunakan Random Forest** jika ingin model dengan akurasi tinggi dan stabil.  \n",
        "- **Gunakan KNN** jika dataset lebih kecil atau model yang lebih sederhana lebih diinginkan.  \n",
        "- Jika masih ingin meningkatkan performa, lakukan **hyperparameter tuning lebih lanjut**, misalnya:  \n",
        "  - Untuk **KNN**: Coba variasi nilai k yang lebih optimal.  \n",
        "  - Untuk **Random Forest**: Coba variasi jumlah pohon (n_estimators) dan kedalaman pohon (max_depth).  \n",
        "  \n"
      ],
      "metadata": {
        "id": "QoOA_xVOqd6w"
      }
    }
  ]
}